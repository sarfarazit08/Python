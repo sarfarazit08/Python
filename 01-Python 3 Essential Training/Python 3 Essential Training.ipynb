{
 "cells": [
  {
   "cell_type": "markdown",
   "metadata": {},
   "source": [
    "# Learning"
   ]
  },
  {
   "cell_type": "markdown",
   "metadata": {},
   "source": [
    "This notebook contains some simple examples of using *Jupyter* and *Python3*"
   ]
  },
  {
   "cell_type": "markdown",
   "metadata": {},
   "source": [
    "## Example 1: *Hello, World*"
   ]
  },
  {
   "cell_type": "code",
   "execution_count": null,
   "metadata": {
    "collapsed": false
   },
   "outputs": [],
   "source": [
    "my_name = \"Sarfaraz\"\n",
    "message = \"Hello! \"+ my_name\n",
    "print(message)"
   ]
  },
  {
   "cell_type": "markdown",
   "metadata": {},
   "source": [
    "## Example 2: World's *best* loop is here"
   ]
  },
  {
   "cell_type": "code",
   "execution_count": null,
   "metadata": {
    "collapsed": false
   },
   "outputs": [],
   "source": [
    "x = 10\n",
    "for j in range (1,5):\n",
    "    x= x+j\n",
    "    print(\"j = {0} x= {1}\".format(j,x))"
   ]
  },
  {
   "cell_type": "markdown",
   "metadata": {},
   "source": [
    "## Example 3: Mathematical Calculation"
   ]
  },
  {
   "cell_type": "code",
   "execution_count": null,
   "metadata": {
    "collapsed": false,
    "scrolled": true
   },
   "outputs": [],
   "source": [
    "import math\n",
    "\n",
    "value = math.sin(math.pi/2)\n",
    "print(value)\n"
   ]
  },
  {
   "cell_type": "markdown",
   "metadata": {
    "collapsed": true
   },
   "source": [
    "## Example 4: If - else conditions"
   ]
  },
  {
   "cell_type": "code",
   "execution_count": null,
   "metadata": {
    "collapsed": false
   },
   "outputs": [],
   "source": [
    "a,b = 1, 4\n",
    "\n",
    "# a < b\n",
    "\n",
    "if a<b:\n",
    "    print (\"a({}) is less than b({})\".format(a,b))\n",
    "else:\n",
    "    print (\"a({}) is greater than b({})\".format(a,b))\n",
    "\n",
    "print(\"shortest way: \")\n",
    "print (\"a is less than b\" if a<b else \"a is greater than b\")\n",
    "# a > b\n",
    "\n",
    "a,b = 5, 4\n",
    "if a<b:\n",
    "    print (\"a({}) is less than b({})\".format(a,b))\n",
    "else:\n",
    "    print (\"a({}) is greater than b({})\".format(a,b))\n",
    "    \n",
    "print(\"shortest way: \")\n",
    "print(\"a is less than b\" if a<b else \"a is greater than b\")"
   ]
  },
  {
   "cell_type": "markdown",
   "metadata": {},
   "source": [
    "# While Loop"
   ]
  },
  {
   "cell_type": "code",
   "execution_count": null,
   "metadata": {
    "collapsed": false
   },
   "outputs": [],
   "source": [
    "a,b = 0,1\n",
    "while b < 50:\n",
    "    print(b)\n",
    "    a,b = b, a+b\n",
    "    "
   ]
  },
  {
   "cell_type": "markdown",
   "metadata": {},
   "source": [
    "# For Loop"
   ]
  },
  {
   "cell_type": "code",
   "execution_count": null,
   "metadata": {
    "collapsed": false
   },
   "outputs": [],
   "source": [
    "fileTxt = open(\"samplexml.xml\")\n",
    "for line in fileTxt.readlines():\n",
    "    print(line,end='') #replacing end of the lines with space"
   ]
  },
  {
   "cell_type": "markdown",
   "metadata": {},
   "source": [
    "# Functions"
   ]
  },
  {
   "cell_type": "code",
   "execution_count": null,
   "metadata": {
    "collapsed": false
   },
   "outputs": [],
   "source": [
    "def isPrime(n):\n",
    "    if(n==1):\n",
    "        print(\"1 is Special.\")\n",
    "        return False\n",
    "    for i in range(2,n):\n",
    "        if(n%i==0):\n",
    "            print(\"{} equals {} * {}\".format(n, i, n//i))\n",
    "            return False\n",
    "        \n",
    "    \n",
    "    else:\n",
    "        print(\"{} is a prime number.\".format(n))\n",
    "        return True\n",
    "    \n",
    "for i in range(1,10):\n",
    "    isPrime(i)\n",
    "    \n",
    "    "
   ]
  },
  {
   "cell_type": "markdown",
   "metadata": {
    "collapsed": true
   },
   "source": [
    "**Creating sequences with generator function**"
   ]
  },
  {
   "cell_type": "code",
   "execution_count": null,
   "metadata": {
    "collapsed": false
   },
   "outputs": [],
   "source": [
    "def isPrime(n):\n",
    "    if(n==1):\n",
    "        print(\"1 is Special.\")\n",
    "        return False\n",
    "    for i in range(2,n):\n",
    "        if(n%i==0):\n",
    "            #print(\"{} equals {} * {}\".format(n, i, n//i))\n",
    "            return False\n",
    "        \n",
    "    \n",
    "    else:\n",
    "        #print(\"{} is a prime number.\".format(n))\n",
    "        return True\n",
    "\n",
    "def primes(n=1): # set default value to 1\n",
    "    while(True):\n",
    "        if isPrime(n): yield n\n",
    "        n += 1       \n",
    "    \n",
    "for n in primes():\n",
    "    if n > 100: break\n",
    "    print(n, end=' ')\n",
    "    "
   ]
  },
  {
   "cell_type": "markdown",
   "metadata": {},
   "source": [
    "**Object Oriented Programming in Python**"
   ]
  },
  {
   "cell_type": "code",
   "execution_count": null,
   "metadata": {
    "collapsed": false
   },
   "outputs": [],
   "source": [
    "class Fibonacci():\n",
    "    def __init__(self, param1, param2):\n",
    "        self.param1 = param1\n",
    "        self.param2 = param2\n",
    "    \n",
    "    def series(self):\n",
    "        while(True):\n",
    "            yield(self.param2)\n",
    "            self.param1, self.param2 = self.param2, self.param1 + self.param2\n",
    "\n",
    "f = Fibonacci(0,1)\n",
    "for i in f.series():\n",
    "    if i > 100 : break\n",
    "    print(i, end =' ')"
   ]
  },
  {
   "cell_type": "markdown",
   "metadata": {},
   "source": [
    "**Object Oriented Programming in Python (Inheritance and Polymorphism)**"
   ]
  },
  {
   "cell_type": "code",
   "execution_count": null,
   "metadata": {
    "collapsed": false
   },
   "outputs": [],
   "source": [
    "class AnimalActions:\n",
    "    def quack(self): return self.strings['quack']\n",
    "    def feathers(self): return self.strings['feathers']\n",
    "    def bark(self): return self.strings['bark']\n",
    "    def fur(self): return self.strings['fur']\n",
    "\n",
    "class Duck(AnimalActions):\n",
    "    strings = dict(\n",
    "        quack = \"Quaaaaak!\",\n",
    "        feathers = \"The duck has gray and white feathers.\",\n",
    "        bark = \"The duck cannot bark.\",\n",
    "        fur = \"The duck has no fur.\"\n",
    "    )\n",
    "\n",
    "class Person(AnimalActions):\n",
    "    strings = dict(\n",
    "        quack = \"The person imitates a duck.\",\n",
    "        feathers = \"The person takes a feather from the ground and shows it.\",\n",
    "        bark = \"The person says woof!\",\n",
    "        fur = \"The person puts on a fur coat.\"\n",
    "    )\n",
    "\n",
    "class Dog(AnimalActions):\n",
    "    strings = dict(\n",
    "        quack = \"The dog cannot quack.\",\n",
    "        feathers = \"The dog has no feathers.\",\n",
    "        bark = \"Arf!\",\n",
    "        fur = \"The dog has white fur with black spots.\"\n",
    "    )\n",
    "\n",
    "def in_the_doghouse(dog):\n",
    "    print(dog.bark())\n",
    "    print(dog.fur())\n",
    "\n",
    "def in_the_forest(duck):\n",
    "    print(duck.quack())\n",
    "    print(duck.feathers())\n",
    "\n",
    "def main():\n",
    "    donald = Duck()\n",
    "    john = Person()\n",
    "    fido = Dog()\n",
    "\n",
    "    print(\"- In the forest:\")\n",
    "    for o in ( donald, john, fido ):\n",
    "        in_the_forest(o)\n",
    "\n",
    "    print(\"- In the doghouse:\")\n",
    "    for o in ( donald, john, fido ):\n",
    "        in_the_doghouse(o)\n",
    "\n",
    "if __name__ == \"__main__\": main()\n"
   ]
  },
  {
   "cell_type": "code",
   "execution_count": null,
   "metadata": {
    "collapsed": false
   },
   "outputs": [],
   "source": [
    "# -- VIEW --\n",
    "\n",
    "class AnimalActions:\n",
    "    def bark(self): return self._doAction('bark')\n",
    "    def fur(self): return self._doAction('fur')\n",
    "    def quack(self): return self._doAction('quack')\n",
    "    def feathers(self): return self._doAction('feathers')\n",
    "\n",
    "    def _doAction(self, action):\n",
    "        if action in self.strings:\n",
    "            return self.strings[action]\n",
    "        else:\n",
    "            return 'The {} has no {}'.format(self.animalName(), action)\n",
    "\n",
    "    def animalName(self):\n",
    "        return self.__class__.__name__.lower()\n",
    "\n",
    "# -- MODEL -- \n",
    "\n",
    "class Duck(AnimalActions):\n",
    "    strings = dict(\n",
    "        quack = \"Quaaaaak!\",\n",
    "        feathers = \"The duck has gray and white feathers.\"\n",
    "    )\n",
    "\n",
    "class Person(AnimalActions):\n",
    "    strings = dict(\n",
    "        bark = \"The person says woof!\",\n",
    "        fur = \"The person puts on a fur coat.\",\n",
    "        quack = \"The person imitates a duck.\",\n",
    "        feathers = \"The person takes a feather from the ground and shows it.\"\n",
    "    )\n",
    "\n",
    "class Dog(AnimalActions):\n",
    "    strings = dict(\n",
    "        bark = \"Arf!\",\n",
    "        fur = \"The dog has white fur with black spots.\",\n",
    "    )\n",
    "\n",
    "# -- CONTROLLER -- \n",
    "\n",
    "def in_the_doghouse(dog):\n",
    "    print(dog.bark())\n",
    "    print(dog.fur())\n",
    "\n",
    "def in_the_forest(duck):\n",
    "    print(duck.quack())\n",
    "    print(duck.feathers())\n",
    "\n",
    "def main():\n",
    "    donald = Duck()\n",
    "    john = Person()\n",
    "    fido = Dog()\n",
    "\n",
    "    print(\"-- In the forest:\")\n",
    "    for o in ( donald, john, fido ):\n",
    "        in_the_forest(o)\n",
    "\n",
    "    print(\"-- In the doghouse:\")\n",
    "    for o in ( donald, john, fido ):\n",
    "        in_the_doghouse(o)\n",
    "\n",
    "if __name__ == \"__main__\": main()\n"
   ]
  },
  {
   "cell_type": "markdown",
   "metadata": {},
   "source": [
    "**Exception handling in Python**"
   ]
  },
  {
   "cell_type": "code",
   "execution_count": null,
   "metadata": {
    "collapsed": false
   },
   "outputs": [],
   "source": [
    "fh = open('xlines.txt')\n",
    "for line in fh.readlines():\n",
    "    print(line)"
   ]
  },
  {
   "cell_type": "code",
   "execution_count": null,
   "metadata": {
    "collapsed": false
   },
   "outputs": [],
   "source": [
    "print(\"Start\")\n",
    "try:\n",
    "    fh = open('xlines.txt')\n",
    "    for line in fh.readlines():\n",
    "        print(line)\n",
    "except IOError as e:\n",
    "    print(e)\n",
    "\n",
    "print(\"End\")"
   ]
  },
  {
   "cell_type": "markdown",
   "metadata": {},
   "source": [
    "**VARIABLES, OBJECTS, AND VALUES **\n",
    "\n",
    "* Everything in Python is an object \n",
    "    * Variables, functions, even code \n",
    "* Every object has an ID, Type and Value \n",
    "    * ID uniquely identifies a particular instance of an object \n",
    "        * Cannot change for the life of the object\n",
    "    * Type identifies the class of an object \n",
    "        * Cannot change for the life of the object \n",
    "    * Value is the contents of the object \n",
    "        * Mutable objects can change value, immutable objects cannot \n",
    "* All variables in Python are first class objects \n",
    "    * What looks like a simple variable may be something more complex \n",
    "            v = some_object()\n",
    "            print(v) \n",
    "            v.attrib 'string' \n",
    "\n",
    "* Objects in Python may be mutable or immutable \n",
    "    * Mutable objects may change value, immutable objects may not \n",
    "        * May look like it's value changes \n",
    "        * Distinction is visible using id() \n",
    "        * Container objects (tuples, lists, etc.) may appear to change value \n",
    "\n",
    "**Mutable and Immutable types in Python**\n",
    "\n",
    "##### Immutable types\n",
    "* Numbers\n",
    "* Strings\n",
    "* Tuples\n",
    "\n",
    "##### Mutable types\n",
    "* List\n",
    "* Dictionaries\n",
    "\n",
    "\n"
   ]
  },
  {
   "cell_type": "markdown",
   "metadata": {},
   "source": [
    "**Multi-line string printing**"
   ]
  },
  {
   "cell_type": "code",
   "execution_count": null,
   "metadata": {
    "collapsed": false
   },
   "outputs": [],
   "source": [
    "def main():\n",
    "    s ='''This is a string \n",
    "Line after line \n",
    "of text and more \n",
    "text.'''\n",
    "    print(s)\n",
    "main()"
   ]
  },
  {
   "cell_type": "markdown",
   "metadata": {},
   "source": [
    "**Tuples, Lists, Strings**"
   ]
  },
  {
   "cell_type": "markdown",
   "metadata": {},
   "source": [
    "**Tuple**"
   ]
  },
  {
   "cell_type": "code",
   "execution_count": null,
   "metadata": {
    "collapsed": false
   },
   "outputs": [],
   "source": [
    "t=(1,2,3)\n",
    "print(type(t), t)"
   ]
  },
  {
   "cell_type": "code",
   "execution_count": null,
   "metadata": {
    "collapsed": false
   },
   "outputs": [],
   "source": [
    "t.append(3) #immutable, it has no attribute as 'append'\n",
    "print(type(t), t)"
   ]
  },
  {
   "cell_type": "markdown",
   "metadata": {},
   "source": [
    "**List**"
   ]
  },
  {
   "cell_type": "code",
   "execution_count": null,
   "metadata": {
    "collapsed": false
   },
   "outputs": [],
   "source": [
    "s=[1,2,3]\n",
    "print(type(s), s)\n",
    "\n",
    "s.append(4)\n",
    "print(type(s), s)\n",
    "\n",
    "s.insert(0, 5)\n",
    "print(type(s), s)"
   ]
  },
  {
   "cell_type": "markdown",
   "metadata": {},
   "source": [
    "**String**"
   ]
  },
  {
   "cell_type": "code",
   "execution_count": null,
   "metadata": {
    "collapsed": false
   },
   "outputs": [],
   "source": [
    "varStr = 'Sarfaraz'\n",
    "print(type(varStr),varStr)"
   ]
  },
  {
   "cell_type": "code",
   "execution_count": null,
   "metadata": {
    "collapsed": false
   },
   "outputs": [],
   "source": [
    "varStr = 'Sarfaraz'\n",
    "print(varStr[3])"
   ]
  },
  {
   "cell_type": "code",
   "execution_count": null,
   "metadata": {
    "collapsed": false
   },
   "outputs": [],
   "source": [
    "varStr = 'Sarfaraz'\n",
    "print(varStr[4:])"
   ]
  },
  {
   "cell_type": "code",
   "execution_count": null,
   "metadata": {
    "collapsed": false
   },
   "outputs": [],
   "source": [
    "varStr = 'Sarfaraz'\n",
    "print(varStr[:4])"
   ]
  },
  {
   "cell_type": "code",
   "execution_count": null,
   "metadata": {
    "collapsed": false
   },
   "outputs": [],
   "source": [
    "varStr = 'Sarfaraz'\n",
    "print(varStr[:])"
   ]
  },
  {
   "cell_type": "code",
   "execution_count": null,
   "metadata": {
    "collapsed": false
   },
   "outputs": [],
   "source": [
    "varStr = 'Sarfaraz'\n",
    "print(varStr[:-2])"
   ]
  },
  {
   "cell_type": "code",
   "execution_count": null,
   "metadata": {
    "collapsed": false
   },
   "outputs": [],
   "source": [
    "varStr = 'Sarfaraz'\n",
    "print(varStr[-2:])"
   ]
  },
  {
   "cell_type": "markdown",
   "metadata": {},
   "source": [
    "**Dictionaries**"
   ]
  },
  {
   "cell_type": "code",
   "execution_count": null,
   "metadata": {
    "collapsed": false
   },
   "outputs": [],
   "source": [
    "weeknames = {'Sunday': 1, 'Monday': 2, 'Tuesday': 3, 'Wednesday': 4, 'Thursday': 5, 'Friday': 6, 'Saturday': 7}\n",
    "print(weeknames)\n",
    "\n",
    "print(15*\"-\")\n",
    "print(\"Key:Value\")\n",
    "print(15*\"-\")\n",
    "for key in weeknames:\n",
    "    print(\"{}:{}\".format(key, weeknames[key]))"
   ]
  },
  {
   "cell_type": "code",
   "execution_count": null,
   "metadata": {
    "collapsed": false
   },
   "outputs": [],
   "source": [
    "print(15*\"-\")\n",
    "print(\"Key:Value\")\n",
    "print(15*\"-\")\n",
    "for key in sorted(weeknames.keys()):                     # Sorted values based on keys\n",
    "    print(\"{}:{}\".format(key, weeknames[key]))"
   ]
  },
  {
   "cell_type": "markdown",
   "metadata": {},
   "source": [
    "**Add an item in the dictionary**"
   ]
  },
  {
   "cell_type": "code",
   "execution_count": null,
   "metadata": {
    "collapsed": false
   },
   "outputs": [],
   "source": [
    "weeknames['day'] = 9\n",
    "print(weeknames)"
   ]
  },
  {
   "cell_type": "markdown",
   "metadata": {},
   "source": [
    "**Remove an item from dictionary**"
   ]
  },
  {
   "cell_type": "code",
   "execution_count": null,
   "metadata": {
    "collapsed": false
   },
   "outputs": [],
   "source": [
    "weeknames.pop('day') # remove the value from dictionary by a key\n",
    "print(weeknames)"
   ]
  },
  {
   "cell_type": "markdown",
   "metadata": {},
   "source": [
    "**Finding the type and identity of a variable**"
   ]
  },
  {
   "cell_type": "code",
   "execution_count": null,
   "metadata": {
    "collapsed": false
   },
   "outputs": [],
   "source": [
    "x = 42 \n",
    "print(x)\n",
    "print(\"id : {}, Type : {}\".format(id(x),type(x)))\n",
    "\n",
    "y = 42\n",
    "print(y)\n",
    "print(\"id : {}, Type : {}\".format(id(y),type(y))) # object is same and so the id value is same as above\n",
    "\n",
    "z = 41\n",
    "print(z)\n",
    "print(\"id : {}, Type : {}\".format(id(z),type(z))) # when object changes then id value changes too\n",
    "\n",
    "\n",
    "print(x == y) # equality checking\n",
    "print(x is y) # identity checking \n",
    "\n",
    "print(x == z) # equality checking\n",
    "print(x is z) # identity checking "
   ]
  },
  {
   "cell_type": "markdown",
   "metadata": {},
   "source": [
    "**Choices**"
   ]
  },
  {
   "cell_type": "code",
   "execution_count": null,
   "metadata": {
    "collapsed": false
   },
   "outputs": [],
   "source": [
    "choices =  { 'one'  : 'first', 'two' : 'second', 'three' : 'third', 'four' :'fourth', 'five' : 'fifth'}\n",
    "print(type(choices))\n",
    "v = 'five'\n",
    "print(choices.get(v, 'other'))\n",
    "v = 'seven'\n",
    "print(choices.get(v, 'other'))"
   ]
  },
  {
   "cell_type": "markdown",
   "metadata": {},
   "source": [
    "**Enumerators**"
   ]
  },
  {
   "cell_type": "code",
   "execution_count": null,
   "metadata": {
    "collapsed": false
   },
   "outputs": [],
   "source": [
    "def writeFile():\n",
    "    f=open('lines.txt','w')\n",
    "    f.write(' Sarfarz \\n Sarfu \\n Sarfaraj \\n MD Sarfarz')\n",
    "    f.close()\n",
    "\n",
    "def enumFunc(): \n",
    "    f = open('lines.txt','r')\n",
    "    for index, line in enumerate(f.readlines()): #Use of enumerators\n",
    "        print( index, line, end='')\n",
    "\n",
    "writeFile()\n",
    "enumFunc()"
   ]
  },
  {
   "cell_type": "code",
   "execution_count": null,
   "metadata": {
    "collapsed": false
   },
   "outputs": [],
   "source": [
    "def strEnum():\n",
    "    s = 'sarfaraz'\n",
    "    for i, c in enumerate(s): \n",
    "        print(i, c) \n",
    "\n",
    "strEnum()"
   ]
  },
  {
   "cell_type": "code",
   "execution_count": null,
   "metadata": {
    "collapsed": false
   },
   "outputs": [],
   "source": [
    "def findIndex():\n",
    "    s = 'sarfaraz'\n",
    "    for i, c in enumerate(s): \n",
    "        if c  == 'a' : print( 'index is {} an a.'.format(i))\n",
    "\n",
    "findIndex()"
   ]
  },
  {
   "cell_type": "markdown",
   "metadata": {},
   "source": [
    "** Break & Continue **"
   ]
  },
  {
   "cell_type": "code",
   "execution_count": null,
   "metadata": {
    "collapsed": false
   },
   "outputs": [],
   "source": [
    "def breakFunc():\n",
    "    s = 'sarfaraz'\n",
    "    for c in s:\n",
    "        if c=='f': break \n",
    "        print(c, end='')\n",
    "            \n",
    "breakFunc()"
   ]
  },
  {
   "cell_type": "code",
   "execution_count": null,
   "metadata": {
    "collapsed": false
   },
   "outputs": [],
   "source": [
    "def breakFunc():\n",
    "    s = 'sarfaraz'\n",
    "    for c in s:\n",
    "        if c=='f': continue \n",
    "        print(c, end='')\n",
    "            \n",
    "breakFunc()"
   ]
  },
  {
   "cell_type": "code",
   "execution_count": null,
   "metadata": {
    "collapsed": false
   },
   "outputs": [],
   "source": [
    "def iterElse():\n",
    "    s = 'Sarfaraz' \n",
    "    for c in s:\n",
    "        print(c, end='')\n",
    "    else :\n",
    "        print(', MD')\n",
    "\n",
    "iterElse()"
   ]
  },
  {
   "cell_type": "code",
   "execution_count": null,
   "metadata": {
    "collapsed": false
   },
   "outputs": [],
   "source": [
    "def iterWhile():\n",
    "    s = 'Sarfaraz' \n",
    "    i=0\n",
    "    while(i<len(s)):\n",
    "        print(s[i], end='')\n",
    "        i += 1\n",
    "    else :\n",
    "        print(', MD')\n",
    "\n",
    "iterWhile()"
   ]
  },
  {
   "cell_type": "markdown",
   "metadata": {
    "collapsed": true
   },
   "source": [
    "**Bitwise Operators**"
   ]
  },
  {
   "cell_type": "code",
   "execution_count": null,
   "metadata": {
    "collapsed": false
   },
   "outputs": [],
   "source": [
    "x = 0b0101\n",
    "print (x)\n",
    "\n",
    "def b(n): return '{:08b}'.format(n) # binary number upto 8 places\n",
    "print(b(x))\n",
    "\n",
    "x, y = 0x55, 0xaa\n",
    "\n",
    "print(b(x), b(y))\n",
    "print(b(x | y)) \n",
    "print(b(x & y))\n",
    "print(b(x ^ y))\n",
    "print(b(x ^ 0))\n",
    "print(b(x ^ 0xff))\n",
    "print(b(x << 2))\n",
    "print(b(x >> 2))\n",
    "print(b(~x))"
   ]
  },
  {
   "cell_type": "markdown",
   "metadata": {},
   "source": [
    "**Comparisons**"
   ]
  },
  {
   "cell_type": "code",
   "execution_count": null,
   "metadata": {
    "collapsed": false
   },
   "outputs": [],
   "source": [
    "2<3"
   ]
  },
  {
   "cell_type": "code",
   "execution_count": null,
   "metadata": {
    "collapsed": false
   },
   "outputs": [],
   "source": [
    "2>3"
   ]
  },
  {
   "cell_type": "code",
   "execution_count": null,
   "metadata": {
    "collapsed": false
   },
   "outputs": [],
   "source": [
    "2<=3"
   ]
  },
  {
   "cell_type": "code",
   "execution_count": null,
   "metadata": {
    "collapsed": false
   },
   "outputs": [],
   "source": [
    "2>=5"
   ]
  },
  {
   "cell_type": "code",
   "execution_count": null,
   "metadata": {
    "collapsed": false
   },
   "outputs": [],
   "source": [
    "2>=2"
   ]
  },
  {
   "cell_type": "code",
   "execution_count": null,
   "metadata": {
    "collapsed": false
   },
   "outputs": [],
   "source": [
    "2==2"
   ]
  },
  {
   "cell_type": "code",
   "execution_count": null,
   "metadata": {
    "collapsed": false
   },
   "outputs": [],
   "source": [
    "2==4"
   ]
  },
  {
   "cell_type": "code",
   "execution_count": null,
   "metadata": {
    "collapsed": false
   },
   "outputs": [],
   "source": [
    "2!=3"
   ]
  },
  {
   "cell_type": "code",
   "execution_count": null,
   "metadata": {
    "collapsed": false
   },
   "outputs": [],
   "source": [
    "2!=2"
   ]
  },
  {
   "cell_type": "code",
   "execution_count": null,
   "metadata": {
    "collapsed": false
   },
   "outputs": [],
   "source": [
    "x, y = 5, 6"
   ]
  },
  {
   "cell_type": "code",
   "execution_count": null,
   "metadata": {
    "collapsed": false
   },
   "outputs": [],
   "source": [
    "id(x)"
   ]
  },
  {
   "cell_type": "code",
   "execution_count": null,
   "metadata": {
    "collapsed": false
   },
   "outputs": [],
   "source": [
    "id(y)"
   ]
  },
  {
   "cell_type": "code",
   "execution_count": null,
   "metadata": {
    "collapsed": false
   },
   "outputs": [],
   "source": [
    "x is y "
   ]
  },
  {
   "cell_type": "code",
   "execution_count": null,
   "metadata": {
    "collapsed": true
   },
   "outputs": [],
   "source": [
    "y = 5 "
   ]
  },
  {
   "cell_type": "code",
   "execution_count": null,
   "metadata": {
    "collapsed": false
   },
   "outputs": [],
   "source": [
    "x is y "
   ]
  },
  {
   "cell_type": "code",
   "execution_count": null,
   "metadata": {
    "collapsed": false
   },
   "outputs": [],
   "source": [
    "id(x) "
   ]
  },
  {
   "cell_type": "code",
   "execution_count": null,
   "metadata": {
    "collapsed": false
   },
   "outputs": [],
   "source": [
    "id(y)"
   ]
  },
  {
   "cell_type": "code",
   "execution_count": null,
   "metadata": {
    "collapsed": true
   },
   "outputs": [],
   "source": [
    "x, y = [2], [2]"
   ]
  },
  {
   "cell_type": "code",
   "execution_count": null,
   "metadata": {
    "collapsed": false
   },
   "outputs": [],
   "source": [
    "x==y"
   ]
  },
  {
   "cell_type": "code",
   "execution_count": null,
   "metadata": {
    "collapsed": false
   },
   "outputs": [],
   "source": [
    "x is y "
   ]
  },
  {
   "cell_type": "code",
   "execution_count": null,
   "metadata": {
    "collapsed": false
   },
   "outputs": [],
   "source": [
    "id (x)"
   ]
  },
  {
   "cell_type": "code",
   "execution_count": null,
   "metadata": {
    "collapsed": false
   },
   "outputs": [],
   "source": [
    "id(y)"
   ]
  },
  {
   "cell_type": "markdown",
   "metadata": {},
   "source": [
    "**Boolean Values**"
   ]
  },
  {
   "cell_type": "code",
   "execution_count": null,
   "metadata": {
    "collapsed": false
   },
   "outputs": [],
   "source": [
    "type(True)"
   ]
  },
  {
   "cell_type": "code",
   "execution_count": null,
   "metadata": {
    "collapsed": false
   },
   "outputs": [],
   "source": [
    "type(False)"
   ]
  },
  {
   "cell_type": "code",
   "execution_count": null,
   "metadata": {
    "collapsed": true
   },
   "outputs": [],
   "source": [
    "x , y = True, False"
   ]
  },
  {
   "cell_type": "code",
   "execution_count": null,
   "metadata": {
    "collapsed": false
   },
   "outputs": [],
   "source": [
    "x == y "
   ]
  },
  {
   "cell_type": "code",
   "execution_count": null,
   "metadata": {
    "collapsed": false
   },
   "outputs": [],
   "source": [
    "x != y"
   ]
  },
  {
   "cell_type": "code",
   "execution_count": null,
   "metadata": {
    "collapsed": false
   },
   "outputs": [],
   "source": [
    "x and y"
   ]
  },
  {
   "cell_type": "code",
   "execution_count": null,
   "metadata": {
    "collapsed": false
   },
   "outputs": [],
   "source": [
    "x or y"
   ]
  },
  {
   "cell_type": "code",
   "execution_count": null,
   "metadata": {
    "collapsed": false
   },
   "outputs": [],
   "source": [
    "x and x "
   ]
  },
  {
   "cell_type": "code",
   "execution_count": null,
   "metadata": {
    "collapsed": false
   },
   "outputs": [],
   "source": [
    "y and y "
   ]
  },
  {
   "cell_type": "code",
   "execution_count": null,
   "metadata": {
    "collapsed": false
   },
   "outputs": [],
   "source": [
    "x or x"
   ]
  },
  {
   "cell_type": "code",
   "execution_count": null,
   "metadata": {
    "collapsed": false
   },
   "outputs": [],
   "source": [
    "y or y"
   ]
  },
  {
   "cell_type": "code",
   "execution_count": null,
   "metadata": {
    "collapsed": false
   },
   "outputs": [],
   "source": [
    "x ^ y"
   ]
  },
  {
   "cell_type": "code",
   "execution_count": null,
   "metadata": {
    "collapsed": false
   },
   "outputs": [],
   "source": [
    "x ^ x"
   ]
  },
  {
   "cell_type": "code",
   "execution_count": null,
   "metadata": {
    "collapsed": false
   },
   "outputs": [],
   "source": [
    "y ^ x"
   ]
  },
  {
   "cell_type": "code",
   "execution_count": null,
   "metadata": {
    "collapsed": false
   },
   "outputs": [],
   "source": [
    "y ^ y"
   ]
  },
  {
   "cell_type": "code",
   "execution_count": null,
   "metadata": {
    "collapsed": false
   },
   "outputs": [],
   "source": [
    "x | y"
   ]
  },
  {
   "cell_type": "code",
   "execution_count": null,
   "metadata": {
    "collapsed": false
   },
   "outputs": [],
   "source": [
    "x & y"
   ]
  },
  {
   "cell_type": "code",
   "execution_count": null,
   "metadata": {
    "collapsed": false
   },
   "outputs": [],
   "source": [
    "~x"
   ]
  },
  {
   "cell_type": "code",
   "execution_count": null,
   "metadata": {
    "collapsed": false
   },
   "outputs": [],
   "source": [
    "~y"
   ]
  },
  {
   "cell_type": "code",
   "execution_count": null,
   "metadata": {
    "collapsed": false
   },
   "outputs": [],
   "source": [
    "x - y"
   ]
  },
  {
   "cell_type": "markdown",
   "metadata": {},
   "source": [
    "**Slicing Operator**"
   ]
  },
  {
   "cell_type": "code",
   "execution_count": null,
   "metadata": {
    "collapsed": true
   },
   "outputs": [],
   "source": [
    "numlist = [1,2,3,4,5]"
   ]
  },
  {
   "cell_type": "code",
   "execution_count": null,
   "metadata": {
    "collapsed": false
   },
   "outputs": [],
   "source": [
    "numlist[1]"
   ]
  },
  {
   "cell_type": "code",
   "execution_count": null,
   "metadata": {
    "collapsed": false
   },
   "outputs": [],
   "source": [
    "numlist[-1]"
   ]
  },
  {
   "cell_type": "code",
   "execution_count": null,
   "metadata": {
    "collapsed": false
   },
   "outputs": [],
   "source": [
    "numlist[:]"
   ]
  },
  {
   "cell_type": "code",
   "execution_count": null,
   "metadata": {
    "collapsed": false
   },
   "outputs": [],
   "source": [
    "numlist[2:4]"
   ]
  },
  {
   "cell_type": "code",
   "execution_count": null,
   "metadata": {
    "collapsed": false
   },
   "outputs": [],
   "source": [
    "numlist[:3]"
   ]
  },
  {
   "cell_type": "code",
   "execution_count": null,
   "metadata": {
    "collapsed": false
   },
   "outputs": [],
   "source": [
    "numlist[3:]"
   ]
  },
  {
   "cell_type": "code",
   "execution_count": null,
   "metadata": {
    "collapsed": false
   },
   "outputs": [],
   "source": [
    "numlist[:-3]"
   ]
  },
  {
   "cell_type": "code",
   "execution_count": null,
   "metadata": {
    "collapsed": false
   },
   "outputs": [],
   "source": [
    "numlist[-3:]"
   ]
  },
  {
   "cell_type": "code",
   "execution_count": null,
   "metadata": {
    "collapsed": false
   },
   "outputs": [],
   "source": [
    "def rangePrint(n):\n",
    "    for i in range(1,n+1):\n",
    "        print(i, end=' ')\n",
    "rangePrint(10)"
   ]
  },
  {
   "cell_type": "code",
   "execution_count": null,
   "metadata": {
    "collapsed": true
   },
   "outputs": [],
   "source": [
    "numlist[:] = range(50)"
   ]
  },
  {
   "cell_type": "code",
   "execution_count": null,
   "metadata": {
    "collapsed": false
   },
   "outputs": [],
   "source": [
    "print(numlist, end='')"
   ]
  },
  {
   "cell_type": "code",
   "execution_count": null,
   "metadata": {
    "collapsed": false
   },
   "outputs": [],
   "source": [
    "numlist[12: 31: 2]"
   ]
  },
  {
   "cell_type": "code",
   "execution_count": null,
   "metadata": {
    "collapsed": false
   },
   "outputs": [],
   "source": [
    "numlist[12: 31: 4] = (0,0,0,0,0)\n",
    "print(numlist, end='')"
   ]
  },
  {
   "cell_type": "code",
   "execution_count": null,
   "metadata": {
    "collapsed": false
   },
   "outputs": [],
   "source": [
    "def rangePrint(n):\n",
    "    for i in range(1,n+1, 2):\n",
    "        print(i, end=' ')\n",
    "rangePrint(50)"
   ]
  },
  {
   "cell_type": "markdown",
   "metadata": {},
   "source": [
    "**OPERATOR PRECEDENCE**"
   ]
  },
  {
   "cell_type": "markdown",
   "metadata": {},
   "source": [
    "|Associativity | Operators                                   | Description                                   |\n",
    "|:------------:|:-------------------------------------------:|:---------------------------------------------:|\n",
    "|left to right |lambda                                       |Lambda Expression                              |\n",
    "|left to right |or                                           |Boolean                                        |\n",
    "|left to right |and                                          |Boolean                                        |\n",
    "|left to right |not                                          |Boolean                                        | \n",
    "|right to left |in, not in, is, is not, <, <=, >, >=, !=, == |Comparisons                                    |\n",
    "|left to right | &#124;                                      |Bitwise                                        |\n",
    "|left to right | ^                                           |Bitwise                                        |\n",
    "|left to right | &                                           |Bitwise                                        |\n",
    "|left to right | <<, >>                                      |Bitwise shift                                  |\n",
    "|left to right | +, -                                        |Addition and subtraction                       |\n",
    "|left to right | `*,  /,  //,  %`                            |Multiplication, division, remainder            |\n",
    "|N/A           | +x, -x, ~x                                  |Unary arithmetic                               |\n",
    "|left to right | `**`                                        |Exponentiation                                 |\n",
    "|right to left | x[slice], x(arguments...), x.attribute      |Slice, function call, and attribute reference  |\n",
    "|left to right |(expression...) , [expression…], {key:value} |Binding, tuple, list, dictionary               |"
   ]
  },
  {
   "cell_type": "markdown",
   "metadata": {
    "collapsed": true
   },
   "source": [
    "**USING REGULAR EXPRESSIONS**\n",
    "\n",
    "* Regular expressions are a very powerful method of matching patterns in text\n",
    "* Actually a small language in itself, regexes can be very simple or very complex \n",
    "* Implemented in Python with the \"re\" module\n",
    "\n",
    "`\n",
    "import re \n",
    "pattern = re.compile(r'\\d\\d\\d') \n",
    "if re.search (regex, line):\n",
    "    print ( line)\n",
    "`"
   ]
  },
  {
   "cell_type": "code",
   "execution_count": null,
   "metadata": {
    "collapsed": false
   },
   "outputs": [],
   "source": [
    "import re \n",
    "\n",
    "def SearchFunc():\n",
    "    file=open('she_was_too_kind.txt','r')\n",
    "    for line in file:\n",
    "        match  = re.search('([a-z])ind',line)\n",
    "        if match:\n",
    "            print(match.group() + \" : \"+ line)\n",
    "            \n",
    "SearchFunc()"
   ]
  },
  {
   "cell_type": "markdown",
   "metadata": {
    "collapsed": true
   },
   "source": [
    "Search and Replace using Regular Expression"
   ]
  },
  {
   "cell_type": "code",
   "execution_count": null,
   "metadata": {
    "collapsed": false
   },
   "outputs": [],
   "source": [
    "# Search and replace in single step\n",
    "\n",
    "import re \n",
    "\n",
    "def reReplaceFunc():\n",
    "    file=open('she_was_too_kind.txt','r')\n",
    "    for line in file:\n",
    "        print(re.sub('([a-z])ind','-----',line), end='')\n",
    "\n",
    "reReplaceFunc()"
   ]
  },
  {
   "cell_type": "code",
   "execution_count": null,
   "metadata": {
    "collapsed": false
   },
   "outputs": [],
   "source": [
    "# Search and replace in two steps\n",
    "\n",
    "import re \n",
    "\n",
    "def reReplaceFunc():\n",
    "    file=open('she_was_too_kind.txt','r')\n",
    "    for line in file:\n",
    "        match = re.search('([a-z])ind',line)\n",
    "        if match:\n",
    "            print(line.replace(match.group(),'----'), end='')\n",
    "\n",
    "reReplaceFunc()"
   ]
  },
  {
   "cell_type": "code",
   "execution_count": null,
   "metadata": {
    "collapsed": false
   },
   "outputs": [],
   "source": [
    "import re \n",
    "\n",
    "def RegFunc():\n",
    "    file = open('she_was_too_kind.txt','r')\n",
    "    pattern = re.compile('([a-z])ind', re.IGNORECASE)\n",
    "    for line in file: \n",
    "        if re.search(pattern, line): \n",
    "            print(pattern.sub('***', line), end='')\n",
    "\n",
    "RegFunc()"
   ]
  },
  {
   "cell_type": "markdown",
   "metadata": {},
   "source": [
    "**USING EXCEPTIONS**\n",
    "\n",
    "* Exceptions are the key method of handling errors in Python \n",
    "* \"try\" something, then catch an exception with \"except\" \n",
    "\n",
    "`\n",
    "try: \n",
    "    file = open ('filename')\n",
    "except IOError as e:\n",
    "    print(e) \n",
    "else: \n",
    "    for i in file:\n",
    "        print(i) \n",
    "`\n",
    "\n",
    "* You may raise your own exceptions with \"raise\" "
   ]
  },
  {
   "cell_type": "code",
   "execution_count": null,
   "metadata": {
    "collapsed": false
   },
   "outputs": [],
   "source": [
    "def func(): \n",
    "    try: \n",
    "        file = open('Lines.txt') \n",
    "    except: \n",
    "        print('File not found.')\n",
    "    else:\n",
    "        for line in file: print(line.strip()) \n",
    "func()"
   ]
  },
  {
   "cell_type": "code",
   "execution_count": null,
   "metadata": {
    "collapsed": false
   },
   "outputs": [],
   "source": [
    "def func(): \n",
    "    try: \n",
    "        file = open('line.txt') \n",
    "    except IOError as e: \n",
    "        print('File not found. {}'.format(e)) \n",
    "    else:\n",
    "        for line in file: print(line.strip()) \n",
    "func()"
   ]
  },
  {
   "cell_type": "code",
   "execution_count": null,
   "metadata": {
    "collapsed": false
   },
   "outputs": [],
   "source": [
    "def func(): \n",
    "    try: \n",
    "        file = open('line.txt') \n",
    "        for line in file: print(line.strip()) # line not executed\n",
    "    except IOError as e: \n",
    "        print('File not found. {}'.format(e)) \n",
    "        \n",
    "func()"
   ]
  },
  {
   "cell_type": "code",
   "execution_count": null,
   "metadata": {
    "collapsed": false
   },
   "outputs": [],
   "source": [
    "def read() : \n",
    "    try: \n",
    "        for line in readfile('lines.doc'): print(line.strip())\n",
    "    except IOError as e: \n",
    "        print( 'cannot read file: ', e )\n",
    "    except ValueError as e: \n",
    "        print( 'Bad filename.', e)\n",
    "\n",
    "def readfile(filename) : \n",
    "    if filename.endswith('.txt'):\n",
    "        fh = open(filename) \n",
    "        return fh. readlines()          \n",
    "    else: \n",
    "        raise ValueError( 'Filename must end with \".txt\".')\n",
    "\n",
    "read()"
   ]
  },
  {
   "cell_type": "code",
   "execution_count": null,
   "metadata": {
    "collapsed": false
   },
   "outputs": [],
   "source": [
    "def testfunc(number, another = None, onemore = 5):\n",
    "    if another is None:\n",
    "        another = 112\n",
    "    print('This is a test function', number, another, onemore)\n",
    "\n",
    "testfunc(42, 61)"
   ]
  },
  {
   "cell_type": "markdown",
   "metadata": {},
   "source": [
    "**Named arguments, Tuple arguments, Keyword arguments**"
   ]
  },
  {
   "cell_type": "code",
   "execution_count": null,
   "metadata": {
    "collapsed": false
   },
   "outputs": [],
   "source": [
    "def testfunc(this, that, other, *args, **kwargs):\n",
    "    print( 'This is a test function', \n",
    "          this, that, other, \n",
    "          args,\n",
    "          kwargs['one'], kwargs['two'], kwargs['four'])\n",
    "    \n",
    "    for n in args: print(n, end=' ')\n",
    "    print('\\n')\n",
    "    for k in kwargs: print(k, kwargs[k])        \n",
    "                                             \n",
    "testfunc(5, 6, 7, 8, 9, 10, one = 1, two = 2, four = 4)"
   ]
  },
  {
   "cell_type": "markdown",
   "metadata": {},
   "source": [
    "**range() function**"
   ]
  },
  {
   "cell_type": "code",
   "execution_count": null,
   "metadata": {
    "collapsed": false
   },
   "outputs": [],
   "source": [
    "def testFunc(n):\n",
    "    return range(n)\n",
    "\n",
    "def test(n):\n",
    "    for i in testFunc(n): print(i, end=' ')\n",
    "\n",
    "test(10)        "
   ]
  },
  {
   "cell_type": "markdown",
   "metadata": {},
   "source": [
    "**Iterator**"
   ]
  },
  {
   "cell_type": "code",
   "execution_count": null,
   "metadata": {
    "collapsed": false
   },
   "outputs": [],
   "source": [
    "def main():\n",
    "    for i in inclusive_range(0, 25, 1):\n",
    "        print(i, end =' ')\n",
    "\n",
    "def inclusive_range(start, stop, step): \n",
    "    i = start\n",
    "    while i <= stop:\n",
    "        yield i\n",
    "        i += step \n",
    "        \n",
    "if __name__ == \"__main__\" : main()"
   ]
  },
  {
   "cell_type": "markdown",
   "metadata": {},
   "source": [
    "**UNDERSTANDING CLASSES**\n",
    "\n",
    "* Classes are how you create your own objects \n",
    "* A class is the blueprint for an object"
   ]
  },
  {
   "cell_type": "code",
   "execution_count": null,
   "metadata": {
    "collapsed": true
   },
   "outputs": [],
   "source": [
    "class Duck:\n",
    "        def quack(self): print (\"Quaaaaaaack!\") \n",
    "        def walk(self):  print (\"walks like a duck\") "
   ]
  },
  {
   "cell_type": "markdown",
   "metadata": {},
   "source": [
    "* An object is an instance of a class"
   ]
  },
  {
   "cell_type": "code",
   "execution_count": null,
   "metadata": {
    "collapsed": false
   },
   "outputs": [],
   "source": [
    "donald = Duck()\n",
    "donald.quack()\n",
    "donald.walk()"
   ]
  },
  {
   "cell_type": "code",
   "execution_count": null,
   "metadata": {
    "collapsed": false
   },
   "outputs": [],
   "source": [
    "class Duck:\n",
    "    def __init__(self, value):\n",
    "        self._v = value\n",
    "        \n",
    "    def quack(self):\n",
    "        print(self._v, 'quaacks like a duck.')\n",
    "        \n",
    "    def walk(self):\n",
    "        print(self._v, 'walks like a duck.')\n",
    "        \n",
    "\n",
    "donald = Duck('Donald') \n",
    "frank = Duck('Frank')\n",
    "\n",
    "donald.quack() \n",
    "donald.walk() \n",
    "\n",
    "frank.quack() \n",
    "frank.walk() "
   ]
  },
  {
   "cell_type": "markdown",
   "metadata": {},
   "source": [
    "**Using Object Data**"
   ]
  },
  {
   "cell_type": "code",
   "execution_count": null,
   "metadata": {
    "collapsed": false
   },
   "outputs": [],
   "source": [
    "class Duck: \n",
    "    def __init__(self, **kwargs):\n",
    "        self.variables = kwargs\n",
    "    \n",
    "    def quack(self):\n",
    "        print('quaacks like a duck.')\n",
    "        \n",
    "    def walk(self):\n",
    "        print('walks like a duck.') \n",
    "        \n",
    "    def set_variable(self, k, v):\n",
    "        self.variables[k] = v\n",
    "        \n",
    "    def get_variable(self, k):\n",
    "        return self.variables.get(k, None)\n",
    "\n",
    "donald = Duck(feet=2, color='Red') \n",
    "\n",
    "donald.set_variable('name', 'Frank')\n",
    "\n",
    "print(donald.get_variable('name'))\n",
    "print(donald.get_variable('color'))\n",
    "print(donald.get_variable('feet'))"
   ]
  },
  {
   "cell_type": "markdown",
   "metadata": {},
   "source": [
    "**Inheritance**"
   ]
  },
  {
   "cell_type": "code",
   "execution_count": null,
   "metadata": {
    "collapsed": false
   },
   "outputs": [],
   "source": [
    "class Animal:\n",
    "    def talk(self): print('I have something to say! ') \n",
    "    def walk(self): print(\"Hey! I'm walking here!\") \n",
    "    def clothes(self): print('I have nice clothes!') \n",
    "\n",
    "class Duck(Animal):\n",
    "    def quack(self): print( 'Quaack! ') \n",
    "    def walk(self): \n",
    "        super().walk()\n",
    "        print('Walks like a duck. ')\n",
    "\n",
    "class Dog(Animal):\n",
    "    def bark(self): print( 'Bhow! Bhow!') \n",
    "    def clothes(self): print('I have brown fur!')\n",
    "\n",
    "def main():\n",
    "    donald = Duck()\n",
    "    donald.quack() \n",
    "    donald.walk()\n",
    "    \n",
    "    rusty = Dog()   \n",
    "    rusty.walk()\n",
    "    rusty.clothes()\n",
    "    rusty.bark()\n",
    "\n",
    "if __name__ ==\"__main__\" : main()"
   ]
  },
  {
   "cell_type": "markdown",
   "metadata": {},
   "source": [
    "**Polymorphism**"
   ]
  },
  {
   "cell_type": "code",
   "execution_count": null,
   "metadata": {
    "collapsed": false
   },
   "outputs": [],
   "source": [
    "class Duck:\n",
    "    def quack(self) : print( 'Quaaack!' ) \n",
    "    def walk(self) : print( 'walks like a duck' ) \n",
    "    def bark(self) : print( 'The duck cannot bark' ) \n",
    "    def fur(self) : print( 'The duck has feathers' ) \n",
    "\n",
    "class Dog: \n",
    "    def bark(self) : print( 'woof!') \n",
    "    def fur(self) : print( 'The dog has brown and white fur') \n",
    "    def walk(self) : print( 'walks like a dog') \n",
    "    def quack(self) : print( 'The dog cannot quack')\n",
    "\n",
    "def main():\n",
    "    donald = Duck() \n",
    "    fido = Dog() \n",
    "    in_the_forest(donald)        \n",
    "    in_the_pond(fido)\n",
    "        \n",
    "def in_the_forest(dog): \n",
    "    dog.bark() \n",
    "    dog.fur() \n",
    "def in_the_pond(duck): \n",
    "    duck.quack() \n",
    "    duck.walk() \n",
    "\n",
    "if __name__ ==\"__main__\" : main()"
   ]
  },
  {
   "cell_type": "markdown",
   "metadata": {},
   "source": [
    "**Generator**"
   ]
  },
  {
   "cell_type": "code",
   "execution_count": null,
   "metadata": {
    "collapsed": false
   },
   "outputs": [],
   "source": [
    "class inclusive_range:\n",
    "    def __init__(self, *args):\n",
    "        numargs = len(args)\n",
    "        if numargs < 1 : raise TypeError ('Requires at least one argument.')\n",
    "        elif numargs == 1 :\n",
    "            self.stop = args[0]\n",
    "            self.start = 0\n",
    "            self.step =1\n",
    "        elif numargs == 2 :\n",
    "            (self.start, self.stop ) = args\n",
    "            self.step =1\n",
    "        elif numargs == 3 :\n",
    "            (self.start, self.stop, self.step ) = args\n",
    "        else: raise TypeError ('Expected at most 3 argument, got{}'.format(numargs))\n",
    "        \n",
    "    def __iter__(self):\n",
    "        i = self.start\n",
    "        while i <= self.stop:\n",
    "            yield i\n",
    "            i += self.step\n",
    "\n",
    "def main():\n",
    "    for i in inclusive_range(20):\n",
    "        print(i, end=' ')\n",
    "    print('\\n')\n",
    "    for i in inclusive_range(1, 20):\n",
    "        print(i, end=' ')\n",
    "    print('\\n')\n",
    "    for i in inclusive_range(1, 20, 2):\n",
    "        print(i, end=' ')\n",
    "    print('\\n')\n",
    "\n",
    "if __name__ ==\"__main__\" : main()"
   ]
  },
  {
   "cell_type": "markdown",
   "metadata": {},
   "source": [
    "**Decorators**"
   ]
  },
  {
   "cell_type": "code",
   "execution_count": null,
   "metadata": {
    "collapsed": false
   },
   "outputs": [],
   "source": [
    "class Duck:\n",
    "    def __init__(self, **kwargs):\n",
    "        self.properties = kwargs\n",
    "\n",
    "    def quack(self):\n",
    "        print('Quaaack!')\n",
    "\n",
    "    def walk(self):\n",
    "        print('Walks like a duck.')\n",
    "\n",
    "    def get_properties(self):\n",
    "        return self.properties\n",
    "\n",
    "    def get_property(self, key):\n",
    "        return self.properties.get(key, None)\n",
    "    \n",
    "    @property\n",
    "    def color(self):\n",
    "        return self.properties.get('color', None)\n",
    "    \n",
    "    @color.setter\n",
    "    def color(self, value):\n",
    "        self.properties['color'] = value\n",
    "    \n",
    "    @color.deleter\n",
    "    def color(self, key):\n",
    "        del self.properties['color']\n",
    "    \n",
    "def main():\n",
    "    donald = Duck()\n",
    "    donald.color = 'blue'\n",
    "    print(donald.get_property('color'))\n",
    "\n",
    "if __name__ == \"__main__\": main()"
   ]
  },
  {
   "cell_type": "markdown",
   "metadata": {},
   "source": [
    "**String Functions**"
   ]
  },
  {
   "cell_type": "code",
   "execution_count": null,
   "metadata": {
    "collapsed": false
   },
   "outputs": [],
   "source": [
    "def main():\n",
    "    s = 'this is a string'\n",
    "    print(s.capitalize())\n",
    "    print(s.title())\n",
    "    print(s.upper())\n",
    "    print(s.swapcase())\n",
    "    print(s.find('is'))\n",
    "    print(s.replace('this', 'that'))\n",
    "    print(s.strip())\n",
    "    print(s.isalnum())\n",
    "    print(s.isalpha())\n",
    "    print(s.isdigit())\n",
    "    print(s.isprintable())\n",
    "\n",
    "if __name__ == \"__main__\": main()"
   ]
  },
  {
   "cell_type": "markdown",
   "metadata": {
    "collapsed": true
   },
   "source": [
    "## Files"
   ]
  },
  {
   "cell_type": "markdown",
   "metadata": {},
   "source": [
    "**Reading and writing text file**"
   ]
  },
  {
   "cell_type": "code",
   "execution_count": null,
   "metadata": {
    "collapsed": false
   },
   "outputs": [],
   "source": [
    "def main():\n",
    "    buffer_size = 500\n",
    "    infile = open('lines.txt','r', encoding='utf-8')\n",
    "    outfile = open('outfile.txt','w')\n",
    "    \n",
    "    buffer = infile.read(buffer_size)\n",
    "    while len(buffer):\n",
    "        outfile.write(buffer)\n",
    "        print('.', end='')\n",
    "        buffer = infile.read(buffer_size)\n",
    "    print()    \n",
    "    print('File writing done.')\n",
    "\n",
    "if __name__ == \"__main__\": main()\n"
   ]
  },
  {
   "cell_type": "markdown",
   "metadata": {},
   "source": [
    "**Reading and writing a binary file (image file)**"
   ]
  },
  {
   "cell_type": "code",
   "execution_count": null,
   "metadata": {
    "collapsed": false
   },
   "outputs": [],
   "source": [
    "def main():\n",
    "    buffer_size = 5000\n",
    "    infile = open('image.jpg','rb')\n",
    "    outfile = open('outfile.jpg','wb')\n",
    "    \n",
    "    buffer = infile.read(buffer_size)\n",
    "    while len(buffer):\n",
    "        outfile.write(buffer)\n",
    "        print('.', end='')\n",
    "        buffer = infile.read(buffer_size)\n",
    "    print()    \n",
    "    print('File writing done.')\n",
    "\n",
    "if __name__ == \"__main__\": main()"
   ]
  },
  {
   "cell_type": "markdown",
   "metadata": {},
   "source": [
    "# Working with Databases in Python"
   ]
  },
  {
   "cell_type": "code",
   "execution_count": null,
   "metadata": {
    "collapsed": false
   },
   "outputs": [],
   "source": [
    "import sqlite3\n",
    "\n",
    "def main():\n",
    "    db = sqlite3.connect(\"PythonDB.db\")\n",
    "    print('Database file created.')\n",
    "    \n",
    "if __name__ == \"__main__\": main()"
   ]
  },
  {
   "cell_type": "markdown",
   "metadata": {},
   "source": [
    "**Crud operations on PythonDB.db**"
   ]
  },
  {
   "cell_type": "code",
   "execution_count": null,
   "metadata": {
    "collapsed": false
   },
   "outputs": [],
   "source": [
    "import sqlite3\n",
    "\n",
    "def insert(db, row):\n",
    "    db.execute('insert into Customer (name, age) values (?, ?)', (row['name'], row['age']))\n",
    "    db.commit()\n",
    "\n",
    "def retrieve(db, name):\n",
    "    cursor = db.execute('select name, age from Customer where name = ?', (name,))\n",
    "    row = cursor.fetchone()\n",
    "    if row is not None:\n",
    "        return dict(zip(('name', 'age'), row))\n",
    "    else:\n",
    "        return None\n",
    "\n",
    "def update(db, row):\n",
    "    db.execute('update Customer set age = ? where name = ?', (row['age'], row['name']))\n",
    "    db.commit()\n",
    "\n",
    "def delete(db, name):\n",
    "    db.execute('delete from Customer where name = ?', (name,))\n",
    "    db.commit()\n",
    "\n",
    "def disp_rows(db):\n",
    "    cursor = db.execute('select * from Customer order by name')\n",
    "    for row in cursor:\n",
    "        print('  {}: {}'.format(row['name'], row['age']))\n",
    "\n",
    "def main():\n",
    "    db = sqlite3.connect('PythonDB.db')\n",
    "    db.row_factory = sqlite3.Row\n",
    "    print('Create table Customer')\n",
    "    db.execute('drop table if exists Customer')\n",
    "    db.execute('create table Customer ( name text, age int )')\n",
    "\n",
    "    print('Create rows')\n",
    "    insert(db, {'name':'John', 'age':1})\n",
    "    insert(db, {'name':'Nick', 'age':33})\n",
    "    insert(db, {'name':'Rick', 'age':29})\n",
    "\n",
    "    disp_rows(db)\n",
    "\n",
    "    print('Retrieve rows')\n",
    "    print(retrieve(db, 'John'), retrieve(db, 'Nick'))\n",
    "\n",
    "    print('Update rows')\n",
    "    update(db, {'name':'John', 'age':2})\n",
    "    update(db, {'name':'Nick', 'age':34})\n",
    "    disp_rows(db)\n",
    "\n",
    "    print('Delete rows')\n",
    "    delete(db, 'Rick')\n",
    "    delete(db, 'Nick')\n",
    "    disp_rows(db)\n",
    "\n",
    "if __name__ == \"__main__\":\n",
    "    main()\n"
   ]
  },
  {
   "cell_type": "markdown",
   "metadata": {},
   "source": [
    "**Implemented using a 'database' class**"
   ]
  },
  {
   "cell_type": "code",
   "execution_count": null,
   "metadata": {
    "collapsed": false
   },
   "outputs": [],
   "source": [
    "import sqlite3\n",
    "\n",
    "class database:\n",
    "    def __init__(self, **kwargs):\n",
    "        self.filename = kwargs.get('filename')\n",
    "        self.table = kwargs.get('table', 'test')\n",
    "    \n",
    "    def sql_do(self, sql, *params):\n",
    "        self._db.execute(sql, params)\n",
    "        self._db.commit()\n",
    "    \n",
    "    def insert(self, row):\n",
    "        self._db.execute('insert into {} (name, age) values (?, ?)'.format(self._table), (row['name'], row['age']))\n",
    "        self._db.commit()\n",
    "    \n",
    "    def retrieve(self, key):\n",
    "        cursor = self._db.execute('select * from {} where name = ?'.format(self._table), (key,))\n",
    "        return dict(cursor.fetchone())\n",
    "    \n",
    "    def update(self, row):\n",
    "        self._db.execute(\n",
    "            'update {} set age = ? where name = ?'.format(self._table),\n",
    "            (row['age'], row['name']))\n",
    "        self._db.commit()\n",
    "    \n",
    "    def delete(self, key):\n",
    "        self._db.execute('delete from {} where name = ?'.format(self._table), (key,))\n",
    "        self._db.commit()\n",
    "\n",
    "    def disp_rows(self):\n",
    "        cursor = self._db.execute('select * from {} order by name'.format(self._table))\n",
    "        for row in cursor:\n",
    "            print('  {}: {}'.format(row['name'], row['age']))\n",
    "\n",
    "    def __iter__(self):\n",
    "        cursor = self._db.execute('select * from {} order by name'.format(self._table))\n",
    "        for row in cursor:\n",
    "            yield dict(row)\n",
    "\n",
    "    @property\n",
    "    def filename(self): return self._filename\n",
    "\n",
    "    @filename.setter\n",
    "    def filename(self, fn):\n",
    "        self._filename = fn\n",
    "        self._db = sqlite3.connect(fn)\n",
    "        self._db.row_factory = sqlite3.Row\n",
    "\n",
    "    @filename.deleter\n",
    "    def filename(self): self.close()\n",
    "\n",
    "    @property\n",
    "    def table(self): return self._table\n",
    "    @table.setter\n",
    "    def table(self, t): self._table = t\n",
    "    @table.deleter\n",
    "    def table(self): self._table = 'Customer'\n",
    "\n",
    "    def close(self):\n",
    "            self._db.close()\n",
    "            del self._filename\n",
    "\n",
    "def main():\n",
    "    db = database(filename = 'PythonDB.db', table = 'Customer')\n",
    "\n",
    "    print('Create table Customer')\n",
    "    db.sql_do('drop table if exists Customer')\n",
    "    db.sql_do('create table Customer ( name text, age int )')\n",
    "\n",
    "    print('Create rows')\n",
    "    db.insert(dict(name = 'sarfaraz', age = 40))\n",
    "    db.insert(dict(name = 'sahnawaz', age = 50))\n",
    "    db.insert(dict(name = 'sahzeb',   age = 60))\n",
    "    db.insert(dict(name = 'sakeib',   age = 70))\n",
    "    for row in db: print(row)\n",
    "\n",
    "    print('Retrieve rows')\n",
    "    print(db.retrieve('sarfaraz'), db.retrieve('sahnawaz'))\n",
    "\n",
    "    print('Update rows')\n",
    "    db.update(dict(name = 'sarfaraz', age = 30))\n",
    "    db.update(dict(name = 'sahnawaz', age = 25))\n",
    "    for row in db: print(row)\n",
    "\n",
    "    print('Delete rows')\n",
    "    db.delete('sahzeb')\n",
    "    \n",
    "    for row in db: print(row)\n",
    "\n",
    "if __name__ == \"__main__\": main()"
   ]
  },
  {
   "cell_type": "markdown",
   "metadata": {},
   "source": [
    "### Working with different modules"
   ]
  },
  {
   "cell_type": "markdown",
   "metadata": {},
   "source": [
    "**sys - Module**"
   ]
  },
  {
   "cell_type": "code",
   "execution_count": null,
   "metadata": {
    "collapsed": false
   },
   "outputs": [],
   "source": [
    "import sys\n",
    "\n",
    "def main():\n",
    "    print('Python version: {}.{}.{}'.format(*sys.version_info))\n",
    "    print('Python version:', sys.version)\n",
    "\n",
    "if __name__ == \"__main__\": main()"
   ]
  },
  {
   "cell_type": "code",
   "execution_count": null,
   "metadata": {
    "collapsed": false
   },
   "outputs": [],
   "source": [
    "import os\n",
    "\n",
    "def main():       \n",
    "    for path in os.getenv('PATH').split(';'):\n",
    "        print(path)\n",
    "\n",
    "if __name__ == \"__main__\": main()"
   ]
  },
  {
   "cell_type": "code",
   "execution_count": null,
   "metadata": {
    "collapsed": false
   },
   "outputs": [],
   "source": [
    "import os\n",
    "\n",
    "def main():\n",
    "    print('Operating system name: ', os.name)    \n",
    "    print(os.getcwd())\n",
    "    print(os.urandom(25))\n",
    "\n",
    "if __name__ == \"__main__\": main()"
   ]
  },
  {
   "cell_type": "code",
   "execution_count": null,
   "metadata": {
    "collapsed": false
   },
   "outputs": [],
   "source": [
    "import urllib.request\n",
    "\n",
    "page = urllib.request.urlopen(\"https://lexica.art/\")\n",
    "for line in page:\n",
    "    if ('<title>' in str(line, encoding='utf-8')):\n",
    "        print(str(line, encoding='utf-8'), end='')"
   ]
  },
  {
   "cell_type": "code",
   "execution_count": null,
   "metadata": {
    "collapsed": false
   },
   "outputs": [],
   "source": [
    "import random\n",
    "\n",
    "print(random.randint(1,10))\n",
    "print(random.randint(1,10))\n",
    "print(random.randint(1,10))"
   ]
  },
  {
   "cell_type": "code",
   "execution_count": null,
   "metadata": {
    "collapsed": false
   },
   "outputs": [],
   "source": [
    "import random\n",
    "\n",
    "x= list(range(0,20))\n",
    "print(x)\n",
    "random.shuffle(x)\n",
    "print(x)\n",
    "random.shuffle(x)\n",
    "print(x)\n",
    "random.shuffle(x)\n",
    "print(x)"
   ]
  },
  {
   "cell_type": "code",
   "execution_count": null,
   "metadata": {
    "collapsed": false
   },
   "outputs": [],
   "source": [
    "import bitstring\n",
    "\n",
    "def main():\n",
    "    a = bitstring.BitStream(bin='01010101')\n",
    "    print(a.hex, a.bin, a.uint)\n",
    "\n",
    "if __name__ == \"__main__\": main()"
   ]
  },
  {
   "cell_type": "markdown",
   "metadata": {},
   "source": [
    "**Creating Modules**"
   ]
  },
  {
   "cell_type": "code",
   "execution_count": null,
   "metadata": {
    "collapsed": false
   },
   "outputs": [],
   "source": [
    "import sys\n",
    "import time\n",
    "\n",
    "__version__ = \"1.1.0\"\n",
    "\n",
    "class numwords():\n",
    "    \"\"\"\n",
    "        return a number as words,\n",
    "        e.g., 42 becomes \"forty-two\"\n",
    "    \"\"\"\n",
    "    _words = {\n",
    "        'ones': (\n",
    "            'oh', 'one', 'two', 'three', 'four', 'five', 'six', 'seven', 'eight', 'nine'\n",
    "        ), 'tens': (\n",
    "            '', 'ten', 'twenty', 'thirty', 'forty', 'fifty', 'sixty', 'seventy', 'eighty', 'ninety'\n",
    "        ), 'teens': (\n",
    "            'ten', 'eleven', 'twelve', 'thirteen', 'fourteen', 'fifteen', 'sixteen', 'seventeen', 'eighteen', 'nineteen' \n",
    "        ), 'quarters': (\n",
    "            'o\\'clock', 'quarter', 'half'\n",
    "        ), 'range': {\n",
    "            'hundred': 'hundred'\n",
    "        }, 'misc': {\n",
    "            'minus': 'minus'\n",
    "        }\n",
    "    }\n",
    "    _oor = 'OOR'    # Out Of Range\n",
    "\n",
    "    def __init__(self, n):\n",
    "        self.__number = n;\n",
    "\n",
    "    def numwords(self, num = None):\n",
    "        \"Return the number as words\"\n",
    "        n = self.__number if num is None else num\n",
    "        s = ''\n",
    "        if n < 0:           # negative numbers\n",
    "            s += self._words['misc']['minus'] + ' '\n",
    "            n = abs(n)\n",
    "        if n < 10:          # single-digit numbers\n",
    "            s += self._words['ones'][n]  \n",
    "        elif n < 20:        # teens\n",
    "            s += self._words['teens'][n - 10]\n",
    "        elif n < 100:       # tens\n",
    "            m = n % 10\n",
    "            t = n // 10\n",
    "            s += self._words['tens'][t]\n",
    "            if m: s += '-' + numwords(m).numwords()    # recurse for remainder\n",
    "        elif n < 1000:      # hundreds\n",
    "            m = n % 100\n",
    "            t = n // 100\n",
    "            s += self._words['ones'][t] + ' ' + self._words['range']['hundred']\n",
    "            if m: s += ' ' + numwords(m).numwords()    # recurse for remainder\n",
    "        else:\n",
    "            s += self._oor\n",
    "        return s\n",
    "\n",
    "    def number(self):\n",
    "        \"Return the number as a number\"\n",
    "        return str(self.__number);\n",
    "\n",
    "class saytime(numwords):\n",
    "    \"\"\"\n",
    "        return the time (from two parameters) as words,\n",
    "        e.g., fourteen til noon, quarter past one, etc.\n",
    "    \"\"\"\n",
    "\n",
    "    _specials = {\n",
    "        'noon': 'noon',\n",
    "        'midnight': 'midnight',\n",
    "        'till': 'till',\n",
    "        'past': 'past'\n",
    "    }\n",
    "\n",
    "    def __init__(self, h, m):\n",
    "        self._hour = abs(int(h))\n",
    "        self._min = abs(int(m))\n",
    "\n",
    "    def words(self):\n",
    "        h = self._hour\n",
    "        m = self._min\n",
    "        \n",
    "        if h > 23: return self._oor     # OOR errors\n",
    "        if m > 59: return self._oor\n",
    "\n",
    "        sign = self._specials['past']        \n",
    "        if self._min > 30:\n",
    "            sign = self._specials['till']\n",
    "            h += 1\n",
    "            m = 60 - m\n",
    "        if h > 23: h -= 24\n",
    "        elif h > 12: h -= 12\n",
    "\n",
    "        # hword is the hours word)\n",
    "        if h is 0: hword = self._specials['midnight']\n",
    "        elif h is 12: hword = self._specials['noon']\n",
    "        else: hword = self.numwords(h)\n",
    "\n",
    "        if m is 0:\n",
    "            if h in (0, 12): return hword   # for noon and midnight\n",
    "            else: return \"{} {}\".format(self.numwords(h), self._words['quarters'][m])\n",
    "        if m % 15 is 0:\n",
    "            return \"{} {} {}\".format(self._words['quarters'][m // 15], sign, hword) \n",
    "        return \"{} {} {}\".format(self.numwords(m), sign, hword) \n",
    "\n",
    "    def digits(self):\n",
    "        \"return the traditionl time, e.g., 13:42\"\n",
    "        return \"{:02}:{:02}\".format(self._hour, self._min)\n",
    "\n",
    "class saytime_t(saytime):   # wrapper for saytime to use time object\n",
    "    \"\"\"\n",
    "        return the time (from a time object) as words\n",
    "        e.g., fourteen til noon\n",
    "    \"\"\"\n",
    "    def __init__(self, t):\n",
    "        self._hour = t.tm_hour\n",
    "        self._min = t.tm_min\n",
    "\n",
    "def main():\n",
    "    if len(sys.argv) > 1:\n",
    "        if sys.argv[1] == 'test':\n",
    "            test()\n",
    "        else:\n",
    "            try: print(saytime(*(sys.argv[1].split(':'))).words())\n",
    "            except TypeError: print(\"Invalid time ({})\".format(sys.argv[1]))\n",
    "    else:\n",
    "        print(saytime_t(time.localtime()).words())\n",
    "\n",
    "def test():\n",
    "    print(\"\\nnumbers test:\")\n",
    "    numlist = (\n",
    "        0, 1, 2, 3, 4, 5, 6, 7, 8, 9, 10, 12, 15, 19, 20, 30, \n",
    "        50, 51, 52, 55, 59, 99, 100, 101, 112, 900, 999, 1000 \n",
    "    )\n",
    "    for l in numlist:\n",
    "        print(l, numwords(l).numwords())\n",
    "\n",
    "    print(\"\\ntime test:\")\n",
    "    tuplist = (\n",
    "        (0, 0), (0, 1), (11, 0), (12, 0), (13, 0), (12, 29), (12, 30),\n",
    "        (12, 31), (12, 15), (12, 30), (12, 45), (11, 59), (23, 15), \n",
    "        (23, 59), (12, 59), (13, 59), (1, 60), (24, 0)\n",
    "    )\n",
    "    for l in tuplist:\n",
    "        print(saytime(*l).digits(), saytime(*l).words())\n",
    "\n",
    "    print(\"\\nlocal time is \" + saytime_t(time.localtime()).words())\n",
    "\n",
    "if __name__ == \"__main__\": \n",
    "    #main()\n",
    "    test()\n"
   ]
  },
  {
   "cell_type": "markdown",
   "metadata": {},
   "source": [
    "**Normalizing a database interface**"
   ]
  },
  {
   "cell_type": "code",
   "execution_count": null,
   "metadata": {
    "collapsed": false
   },
   "outputs": [],
   "source": [
    "import sqlite3\n",
    "\n",
    "__version__ = '1.0.3'\n",
    "\n",
    "class bwDB:\n",
    "    def __init__(self, **kwargs):\n",
    "        '''\n",
    "            db = bwDB( [ table = ''] [, filename = ''] )\n",
    "            constructor method\n",
    "                table is for CRUD methods \n",
    "                filename is for connecting to the database file\n",
    "        '''\n",
    "        # see filename setter below\n",
    "        self.filename = kwargs.get('filename')\n",
    "        self.table = kwargs.get('table', '')\n",
    "\n",
    "    def sql_do(self, sql, params = ()):\n",
    "        '''\n",
    "            db.sql_do( sql[, params] )\n",
    "            method for non-select queries\n",
    "                sql is string containing SQL\n",
    "                params is list containing parameters\n",
    "            returns nothing\n",
    "        '''\n",
    "        self._db.execute(sql, params)\n",
    "        self._db.commit()\n",
    "\n",
    "    def sql_query(self, sql, params = ()):\n",
    "        '''\n",
    "            db.sql_query( sql[, params] )\n",
    "            generator method for queries\n",
    "                sql is string containing SQL\n",
    "                params is list containing parameters\n",
    "            returns a generator with one row per iteration\n",
    "            each row is a Row factory\n",
    "        '''\n",
    "        c = self._db.cursor()\n",
    "        c.execute(sql, params)\n",
    "        for r in c:\n",
    "            yield r\n",
    "\n",
    "    def sql_query_row(self, sql, params = ()):\n",
    "        '''\n",
    "            db.sql_query_row( sql[, params] )\n",
    "            query for a single row\n",
    "                sql is string containing SQL\n",
    "                params is list containing parameters\n",
    "            returns a single row as a Row factory\n",
    "        '''\n",
    "        c = self._db.cursor()\n",
    "        c.execute(sql, params)\n",
    "        return c.fetchone()\n",
    "\n",
    "    def sql_query_value(self, sql, params = ()):\n",
    "        '''\n",
    "            db.sql_query_row( sql[, params] )\n",
    "            query for a single value\n",
    "                sql is string containing SQL\n",
    "                params is list containing parameters\n",
    "            returns a single value\n",
    "        '''\n",
    "        c = self._db.cursor()\n",
    "        c.execute(sql, params)\n",
    "        return c.fetchone()[0]\n",
    "\n",
    "    def getrec(self, id):\n",
    "        ''' \n",
    "            db.getrec(id)\n",
    "            get a single row, by id\n",
    "        '''\n",
    "        query = 'SELECT * FROM {} WHERE id = ?'.format(self.table)\n",
    "        c = self._db.execute(query, (id,))\n",
    "        return c.fetchone()\n",
    "\n",
    "    def getrecs(self):\n",
    "        ''' \n",
    "            db.getrecs(id)\n",
    "            get all rows, returns a generator of Row factories\n",
    "        '''\n",
    "        query = 'SELECT * FROM {}'.format(self.table)\n",
    "        c = self._db.execute(query)\n",
    "        for r in c:\n",
    "            yield r\n",
    "\n",
    "    def insert(self, rec):\n",
    "        '''\n",
    "            db.insert(rec)\n",
    "            insert a single record into the table\n",
    "                rec is a dict with key/value pairs corresponding to table schema\n",
    "            omit id column to let SQLite generate it\n",
    "        '''\n",
    "        klist = sorted(rec.keys())\n",
    "        values = [ rec[v] for v in klist ]  # a list of values ordered by key\n",
    "        q = 'INSERT INTO {} ({}) VALUES ({})'.format(\n",
    "            self.table,\n",
    "            ', '.join(klist),\n",
    "            ', '.join('?' for i in range(len(values)))\n",
    "        )\n",
    "        c = self._db.execute(q, values)\n",
    "        self._db.commit()\n",
    "        return c.lastrowid\n",
    "\n",
    "    def update(self, id, rec):\n",
    "        '''\n",
    "            db.update(id, rec)\n",
    "            update a row in the table\n",
    "                id is the value of the id column for the row to be updated\n",
    "                rec is a dict with key/value pairs corresponding to table schema\n",
    "        '''\n",
    "        klist = sorted(rec.keys())\n",
    "        values = [ rec[v] for v in klist ]  # a list of values ordered by key\n",
    "\n",
    "        for i, k in enumerate(klist):       # don't udpate id\n",
    "            if k == 'id':\n",
    "                del klist[i]\n",
    "                del values[i]\n",
    "\n",
    "        q = 'UPDATE {} SET {} WHERE id = ?'.format(\n",
    "            self.table,\n",
    "            ',  '.join(map(lambda str: '{} = ?'.format(str), klist))\n",
    "        )\n",
    "        self._db.execute(q, values + [ id ])\n",
    "        self._db.commit()\n",
    "\n",
    "    def delete(self, id):\n",
    "        '''\n",
    "            db.delete(id)\n",
    "            delete a row from the table, by id\n",
    "        '''\n",
    "        query = 'DELETE FROM {} WHERE id = ?'.format(self.table)\n",
    "        self._db.execute(query, [id])\n",
    "        self._db.commit()\n",
    "\n",
    "    def countrecs(self):\n",
    "        '''\n",
    "            db.countrecs()\n",
    "            count the records in the table\n",
    "            returns a single integer value\n",
    "        '''\n",
    "        query = 'SELECT COUNT(*) FROM {}'.format(self.table)\n",
    "        c = self._db.cursor()\n",
    "        c.execute(query)\n",
    "        return c.fetchone()[0]\n",
    "\n",
    "    ### filename property\n",
    "    @property\n",
    "    def filename(self):\n",
    "        return self._dbFilename\n",
    "\n",
    "    @filename.setter\n",
    "    def filename(self, fn):\n",
    "            self._dbFilename = fn\n",
    "            self._db = sqlite3.connect(fn)\n",
    "            self._db.row_factory = sqlite3.Row\n",
    "\n",
    "    @filename.deleter\n",
    "    def filename(self):\n",
    "        self.close()\n",
    "\n",
    "    def close(self):\n",
    "            self._db.close()\n",
    "            del self._dbFilename\n",
    "\n",
    "def test():\n",
    "    import os\n",
    "    fn = ':memory:'     # in-memory database\n",
    "    t = 'foo'\n",
    "\n",
    "    recs = [\n",
    "        dict( string = 'one' ),\n",
    "        dict( string = 'two' ),\n",
    "        dict( string = 'three' )\n",
    "    ]\n",
    "\n",
    "    ### for file-based database\n",
    "    # try: os.stat(fn)\n",
    "    # except: pass\n",
    "    # else: \n",
    "    #     print('Delete', fn)\n",
    "    #     os.unlink(fn)\n",
    "\n",
    "    print('version', __version__)\n",
    "\n",
    "    print('Create database file {} ...'.format(fn), end = '')\n",
    "    db = bwDB( filename = fn, table = t )\n",
    "    print('Done.')\n",
    "\n",
    "    print('Create table ... ', end='')\n",
    "    db.sql_do(' DROP TABLE IF EXISTS {} '.format(t))\n",
    "    db.sql_do(' CREATE TABLE {} ( id INTEGER PRIMARY KEY, string TEXT ) '.format(t))\n",
    "    print('Done.')\n",
    "\n",
    "    print('Insert into table ... ', end = '')\n",
    "    for r in recs: db.insert(r)\n",
    "    print('Done.')\n",
    "\n",
    "    print('Read from table')\n",
    "    for r in db.getrecs(): print(dict(r))\n",
    "\n",
    "    print('Update table')\n",
    "    db.update(2, dict(string = 'TWO'))\n",
    "    print( dict( db.getrec(2) ) )\n",
    "\n",
    "    print('Insert an extra row ... ', end = '')\n",
    "    newid = db.insert( dict( string = 'extra' ) )\n",
    "    print('(id is {})'.format(newid))\n",
    "    print( dict( db.getrec(newid) ) )\n",
    "    print('Now delete it')    \n",
    "    db.delete(newid)\n",
    "    for r in db.getrecs(): print(dict(r))\n",
    "    db.close()\n",
    "\n",
    "if __name__ == \"__main__\": test()"
   ]
  },
  {
   "cell_type": "markdown",
   "metadata": {},
   "source": [
    "**The End**"
   ]
  }
 ],
 "metadata": {
  "kernelspec": {
   "display_name": "Python 3",
   "language": "python",
   "name": "python3"
  },
  "language_info": {
   "codemirror_mode": {
    "name": "ipython",
    "version": 3
   },
   "file_extension": ".py",
   "mimetype": "text/x-python",
   "name": "python",
   "nbconvert_exporter": "python",
   "pygments_lexer": "ipython3",
   "version": "3.11.4"
  }
 },
 "nbformat": 4,
 "nbformat_minor": 2
}

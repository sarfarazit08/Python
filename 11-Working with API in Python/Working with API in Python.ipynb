{
 "cells": [
  {
   "cell_type": "markdown",
   "metadata": {},
   "source": [
    "# Openweathermap API\n",
    "\n",
    "The api provided by **openweathermap** is used here along with the generated `API Key` to get the weather information."
   ]
  },
  {
   "cell_type": "code",
   "execution_count": null,
   "metadata": {
    "collapsed": false
   },
   "outputs": [],
   "source": [
    "from urllib import request\n",
    "import json\n",
    "\n",
    "def WeatherInfo(zipcode,country_code):\n",
    "    APIKey = '<put api key from OpenWeatherMap>'\n",
    "    url = 'http://api.openweathermap.org/data/2.5/weather?zip={},{}&appid={}'.format(zipcode,country_code,APIKey)\n",
    "    print(url)\n",
    "    try:        \n",
    "        result = request.urlopen(url).read().decode(\"utf-8\")\n",
    "        json_result = json.loads(result)        \n",
    "        temp_k = float(json_result['main']['temp'],)\n",
    "        temp_c = temp_k - 273.15\n",
    "        return temp_c\n",
    "    except Exception as e:\n",
    "        return 'Some error occured. {}'.format(e.args)"
   ]
  },
  {
   "cell_type": "code",
   "execution_count": null,
   "metadata": {
    "collapsed": false
   },
   "outputs": [],
   "source": [
    "print('Temperature : {:0.2f} ºC'.format(WeatherInfo('90051','US')))\n",
    "print('Temperature : {:0.2f} ºC'.format(WeatherInfo('89128','US')))"
   ]
  },
  {
   "cell_type": "markdown",
   "metadata": {},
   "source": [
    "# Twitter Sentiment Analysis\n",
    "\n",
    "Here I'm using a twitter API and the respective key and token to make a call to API.\n",
    "Through this API I'm going to analyze the sentiment of people on twitte."
   ]
  },
  {
   "cell_type": "code",
   "execution_count": null,
   "metadata": {
    "collapsed": false
   },
   "outputs": [],
   "source": [
    "import tweepy\n",
    "from textblob import TextBlob\n",
    "\n",
    "consumer_key = '<put consumer_key from Twitter (now named as X)>'\n",
    "consumer_secret = '<put consumer_secret from Twitter (now named as X)>'\n",
    "\n",
    "access_token = '<put access_token from Twitter (now named as X)>'\n",
    "access_token_secret = '<put access_token_secret from Twitter (now named as X)>'\n",
    "\n",
    "# Authenticate with Twitter\n",
    "auth = tweepy.OAuthHandler(consumer_key, consumer_secret)\n",
    "auth.set_access_token(access_token, access_token_secret)\n",
    "\n",
    "# Create a Twitter API object\n",
    "api = tweepy.API(auth)\n",
    "\n",
    "tweets_count = 10\n",
    "\n",
    "# Search for tweets containing 'Quantum'\n",
    "public_tweets = tweepy.Cursor(api.search_tweets, q='Quantum').items(tweets_count)  # You can change the number of tweets to retrieve\n",
    "\n",
    "# Perform sentiment analysis on each tweet\n",
    "for tweet in public_tweets:\n",
    "    print(tweet.text)\n",
    "    analysis = TextBlob(tweet.text)\n",
    "    print(\"Sentiment Polarity:\", analysis.sentiment.polarity)\n",
    "    print(\"Sentiment Subjectivity:\", analysis.sentiment.subjectivity)\n",
    "    print(\"\\n\")"
   ]
  },
  {
   "cell_type": "code",
   "execution_count": null,
   "metadata": {
    "collapsed": true
   },
   "outputs": [],
   "source": []
  }
 ],
 "metadata": {
  "kernelspec": {
   "display_name": "Python 3",
   "language": "python",
   "name": "python3"
  },
  "language_info": {
   "codemirror_mode": {
    "name": "ipython",
    "version": 3
   },
   "file_extension": ".py",
   "mimetype": "text/x-python",
   "name": "python",
   "nbconvert_exporter": "python",
   "pygments_lexer": "ipython3",
   "version": "3.11.4"
  }
 },
 "nbformat": 4,
 "nbformat_minor": 2
}
